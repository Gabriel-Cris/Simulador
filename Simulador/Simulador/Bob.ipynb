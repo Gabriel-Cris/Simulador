{
 "cells": [
  {
   "cell_type": "code",
   "execution_count": 1,
   "id": "0e21e6f6",
   "metadata": {},
   "outputs": [
    {
     "name": "stdout",
     "output_type": "stream",
     "text": [
      "Conexão estabelecida com Alice\n",
      "Chave recebida\n",
      "Eve-Intercept-And-Resend phase...Done\n",
      "Channel phase...Done\n",
      "Beam Splitter phase...Done\n",
      "Polarizing Beam Splitter...Done\n",
      "Single-Photon Avalanche Diode phase...Done\n",
      "Sifting phase...Done\n",
      "Quantum Bit Error Rate is 0.085106.\n",
      "\n",
      "\n",
      "\t\t\t\t-----<<Security Testing and Recommendation Session Initiation>>-----\n",
      "\n",
      "\n",
      "\t\t\t\t\t\t-----<<Reporting Mutual Information and Security>>-----\n",
      "\n",
      "The mutual information between Alice and Bob is 32.174937 bits.\n",
      "The mutual information between Alice and Eve is 1.130059 bits.\n",
      "Hence, the communication is secure. You may proceed to the post-processing classical schemes.\n",
      "\n",
      "\t\t\t\t\t\t-----<<Reporting Key Rates>>-----\n",
      "\n",
      "The theoretical (maximum) key rate at your input conditions is 0.310449.\n",
      "The theoretical key length is 14.59 out of your 100 input bits.\n"
     ]
    },
    {
     "name": "stdin",
     "output_type": "stream",
     "text": [
      "Do you have a target key rate? [y/n]:  y\n",
      "Please input your target secret-key rate:  0.310449\n",
      "Your target key rate is larger than the theoretical key rate! It is not achievable at your input conditions; you might have to lower the depolarizing parameter.\n",
      "Do you want to calculate the depolarizing parameter range that could achieve your target key rate? [y/n]:  y\n"
     ]
    },
    {
     "name": "stdout",
     "output_type": "stream",
     "text": [
      "Processing...\n",
      "Done\n",
      "Your target key rate is not achievable, even by lowering the depolarizing parameter. It needs to be below the theoretical key rate.\n",
      "\n",
      "\t\t\t\t-----<<End of this Simulation Session>>-----\n",
      "\n"
     ]
    }
   ],
   "source": [
    "import numpy as np\n",
    "import time\n",
    "from Polarizer import Polarizer\n",
    "from Eve_Intercept_and_Resend import Eve_Intercept_and_Resend\n",
    "from Security_Testing_and_Reconciliation_Efficiency_Reporting import Security_Testing_and_Reconciliation_Efficiency_Reporting\n",
    "from Channel import Channel\n",
    "from Polarizing_Beam_Splitter import Polarizing_Beam_Splitter\n",
    "from Beam_Splitter import Beam_Splitter\n",
    "from SPAD import SPAD\n",
    "from Sifting import Sifting\n",
    "from Server_Bob import server\n",
    "\n",
    "number_of_photons, channel_depolarization_probability, Eve_attack_level, key_bits, Alice_basis_selection, Alice_polarized_photons_states = server()\n",
    "Bob_basis_selection = np.round(np.random.rand(number_of_photons))\n",
    "\n",
    "if Eve_attack_level != 0:\n",
    "    Alice_polarized_photons_states, Eve_basis_selection = Eve_Intercept_and_Resend(Eve_attack_level, number_of_photons, Alice_polarized_photons_states)\n",
    "    Eve_key = SPAD(Alice_polarized_photons_states)\n",
    "    print('Eve-Intercept-And-Resend phase...Done')\n",
    "else:\n",
    "    print('Eve: None')\n",
    "\n",
    "# 3 - Canal\n",
    "Alice_polarized_photons_states_after_channel = Channel(number_of_photons, channel_depolarization_probability, Alice_polarized_photons_states)\n",
    "print('Channel phase...Done')\n",
    "\n",
    "# 4 - Divisor de feixe\n",
    "photon_states_after_beam_splitter = Beam_Splitter(Alice_polarized_photons_states_after_channel, Bob_basis_selection)\n",
    "print('Beam Splitter phase...Done')\n",
    "\n",
    "# 5 - Divisor de feixe polarizador\n",
    "photons_states_after_polarizing_beam_splitter = Polarizing_Beam_Splitter(photon_states_after_beam_splitter, number_of_photons)\n",
    "print('Polarizing Beam Splitter...Done')\n",
    "\n",
    "# 6 - Diodo de Avalanche de Fótons Únicos (SPAD)\n",
    "measured_bits = SPAD(photons_states_after_polarizing_beam_splitter)\n",
    "print('Single-Photon Avalanche Diode phase...Done')\n",
    "\n",
    "# 7 - Peneirar\n",
    "QBER, positions_of_unmatched_bases, Alice_sifted_key, Bob_sifted_key = Sifting(key_bits, Alice_basis_selection, Bob_basis_selection, measured_bits)\n",
    "print('Sifting phase...Done')\n",
    "print(f'Quantum Bit Error Rate is {QBER:.6f}.')\n",
    "\n",
    "# Teste de segurança e relatório de eficiência de reconciliação\n",
    "Security_Testing_and_Reconciliation_Efficiency_Reporting(number_of_photons, Alice_sifted_key, channel_depolarization_probability, Eve_attack_level)"
   ]
  },
  {
   "cell_type": "code",
   "execution_count": null,
   "id": "3aca3136",
   "metadata": {},
   "outputs": [],
   "source": []
  },
  {
   "cell_type": "code",
   "execution_count": null,
   "id": "5a2b56e6-1905-4e6e-a192-b45d577c3288",
   "metadata": {},
   "outputs": [],
   "source": []
  }
 ],
 "metadata": {
  "kernelspec": {
   "display_name": "Python 3 (ipykernel)",
   "language": "python",
   "name": "python3"
  },
  "language_info": {
   "codemirror_mode": {
    "name": "ipython",
    "version": 3
   },
   "file_extension": ".py",
   "mimetype": "text/x-python",
   "name": "python",
   "nbconvert_exporter": "python",
   "pygments_lexer": "ipython3",
   "version": "3.12.7"
  }
 },
 "nbformat": 4,
 "nbformat_minor": 5
}
