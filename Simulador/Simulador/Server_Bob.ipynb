{
 "cells": [
  {
   "cell_type": "code",
   "execution_count": 1,
   "id": "470d48ed",
   "metadata": {},
   "outputs": [],
   "source": [
    "import socket\n",
    "import pickle\n",
    "\n",
    "def server(host = 'localhost', port = 1234):\n",
    "    # Create a TCP socket\n",
    "    server = socket.socket(socket.AF_INET,  socket.SOCK_STREAM)\n",
    "    server.setsockopt(socket.SOL_SOCKET, socket.SO_REUSEADDR, 1)\n",
    "    server_address = (host, port)\n",
    "    server.bind(server_address)\n",
    "    # Listen to clients, argument specifies the max no. of queued connections\n",
    "    server.listen(1)\n",
    "    \n",
    "    conn, addr = server.accept()\n",
    "    print(\"Conexão estabelecida com Alice\")\n",
    "    \n",
    "    data = pickle.loads(conn.recv(16384))\n",
    "    \n",
    "    if data :\n",
    "        print(\"Chave recebida\")\n",
    "        conn.send(pickle.dumps(\"Chave recebida\"))\n",
    "    #channel_depolarization_probability1 = conn.recv(4096)\n",
    "    #print(channel_depolarization_probability1)\n",
    "    #Eve_attack_level1 = conn.recv(4096)\n",
    "    #Alice_basis_selection1 = conn.recv(4096)\n",
    "    #alice_polarized_photon_states1 = conn.recv(4096)\n",
    "    \n",
    "    \n",
    "    #number_of_photons = data[0]\n",
    "    #channel_depolarization_probability = data[1]\n",
    "    #Eve_attack_level = data[2]\n",
    "    #Alice_basis_selection = data[3]\n",
    "    #alice_polarized_photon_states = data[4]\n",
    "    \n",
    "    #channel_depolarization_probability = pickle.loads(channel_depolarization_probability1)\n",
    "    #Eve_attack_level = pickle.loads(Eve_attack_level1)\n",
    "    #Alice_basis_selection = pickle.loads(Alice_basis_selection1)\n",
    "    #alice_polarized_photon_states = pickle.loads(alice_polarized_photon_states1)\n",
    "    \n",
    "\n",
    "    \n",
    "    conn.close()\n",
    "    \n",
    "    return data #number_of_photons, channel_depolarization_probability, Eve_attack_level, Alice_basis_selection, alice_polarized_photon_states   "
   ]
  }
 ],
 "metadata": {
  "kernelspec": {
   "display_name": "Python 3 (ipykernel)",
   "language": "python",
   "name": "python3"
  },
  "language_info": {
   "codemirror_mode": {
    "name": "ipython",
    "version": 3
   },
   "file_extension": ".py",
   "mimetype": "text/x-python",
   "name": "python",
   "nbconvert_exporter": "python",
   "pygments_lexer": "ipython3",
   "version": "3.11.5"
  }
 },
 "nbformat": 4,
 "nbformat_minor": 5
}
