{
 "cells": [
  {
   "cell_type": "code",
   "execution_count": 2,
   "id": "ae384a52",
   "metadata": {},
   "outputs": [
    {
     "name": "stdout",
     "output_type": "stream",
     "text": [
      "---------------------------------------------------------------------------------\n",
      "-----<<EnQuad Engine Initialization>>-----\n",
      "\n",
      "-----<<Input Conditions>>------\n",
      "\n"
     ]
    },
    {
     "name": "stdin",
     "output_type": "stream",
     "text": [
      "Please input the number of photons to be sent:   10000\n",
      "Please input the depolarizing parameter of your channel:   0.1\n",
      "Please input Eve attack level of your interest:    0.25\n"
     ]
    },
    {
     "name": "stdout",
     "output_type": "stream",
     "text": [
      "Chave enviada para Bob\n"
     ]
    }
   ],
   "source": [
    "import numpy as np\n",
    "import time\n",
    "from Polarizer import Polarizer\n",
    "from Eve_Intercept_and_Resend import Eve_Intercept_and_Resend\n",
    "from Security_Testing_and_Reconciliation_Efficiency_Reporting import Security_Testing_and_Reconciliation_Efficiency_Reporting\n",
    "from Channel import Channel\n",
    "from Polarizing_Beam_Splitter import Polarizing_Beam_Splitter\n",
    "from Beam_Splitter import Beam_Splitter\n",
    "from SPAD import SPAD\n",
    "from Sifting import Sifting\n",
    "from Client_Alice import client\n",
    "\n",
    "# Exemplo das entradas\n",
    "print(\"---------------------------------------------------------------------------------\")\n",
    "print(\"-----<<EnQuad Engine Initialization>>-----\\n\")\n",
    "print(\"-----<<Input Conditions>>------\\n\")\n",
    "\n",
    "# Entrada de número de fótons\n",
    "number_of_photons = int(input('Please input the number of photons to be sent:  '))\n",
    "while True:\n",
    "    if number_of_photons > 0 and (number_of_photons % 1) == 0:\n",
    "        break\n",
    "    else:\n",
    "        number_of_photons = int(input('Number of photons must be an integer greater than zero: '))\n",
    "\n",
    "# Entrada de probabilidade de despolarização do canal\n",
    "channel_depolarization_probability = float(input('Please input the depolarizing parameter of your channel:  '))\n",
    "while True:\n",
    "    if 0 < channel_depolarization_probability < 0.25:\n",
    "        break\n",
    "    else:\n",
    "        channel_depolarization_probability = float(input('Depolarizing parameter should be a decimal number in the range of ]0 1/4[: '))\n",
    "\n",
    "# Nível de ataque de Eve\n",
    "Eve_attack_level = float(input('Please input Eve attack level of your interest:   '))\n",
    "while True:\n",
    "    if 0 <= Eve_attack_level <= 1:\n",
    "        break\n",
    "    else:\n",
    "        Eve_attack_level = float(input('Eve attack Level should be a decimal number in the range of [0 1]: '))\n",
    "\n",
    "# Geração de bits de chave e seleção de bases de Alice e Bob\n",
    "key_bits = np.round(np.random.rand(number_of_photons))\n",
    "Alice_basis_selection = np.round(np.random.rand(number_of_photons))\n",
    "\n",
    "# 1 - Polarizador\n",
    "Alice_polarized_photons_states = Polarizer(Alice_basis_selection, key_bits, number_of_photons)\n",
    "\n",
    "# 2 - Trasnferência\n",
    "client([number_of_photons, channel_depolarization_probability, Eve_attack_level, key_bits, Alice_basis_selection, Alice_polarized_photons_states])"
   ]
  },
  {
   "cell_type": "code",
   "execution_count": null,
   "id": "6b78cd21-4c99-46ee-b6a2-4a7c18cf6148",
   "metadata": {},
   "outputs": [],
   "source": []
  }
 ],
 "metadata": {
  "kernelspec": {
   "display_name": "Python 3 (ipykernel)",
   "language": "python",
   "name": "python3"
  },
  "language_info": {
   "codemirror_mode": {
    "name": "ipython",
    "version": 3
   },
   "file_extension": ".py",
   "mimetype": "text/x-python",
   "name": "python",
   "nbconvert_exporter": "python",
   "pygments_lexer": "ipython3",
   "version": "3.12.7"
  }
 },
 "nbformat": 4,
 "nbformat_minor": 5
}
